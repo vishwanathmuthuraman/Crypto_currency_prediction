{
 "cells": [
  {
   "cell_type": "code",
   "execution_count": 17,
   "outputs": [
    {
     "ename": "ModuleNotFoundError",
     "evalue": "No module named 'chart_studio'",
     "output_type": "error",
     "traceback": [
      "\u001B[1;31m---------------------------------------------------------------------------\u001B[0m",
      "\u001B[1;31mModuleNotFoundError\u001B[0m                       Traceback (most recent call last)",
      "Input \u001B[1;32mIn [17]\u001B[0m, in \u001B[0;36m<cell line: 7>\u001B[1;34m()\u001B[0m\n\u001B[0;32m      5\u001B[0m \u001B[38;5;28;01mimport\u001B[39;00m \u001B[38;5;21;01mnumpy\u001B[39;00m \u001B[38;5;28;01mas\u001B[39;00m \u001B[38;5;21;01mnp\u001B[39;00m \u001B[38;5;66;03m# linear algebra\u001B[39;00m\n\u001B[0;32m      6\u001B[0m \u001B[38;5;28;01mimport\u001B[39;00m \u001B[38;5;21;01mpandas\u001B[39;00m \u001B[38;5;28;01mas\u001B[39;00m \u001B[38;5;21;01mpd\u001B[39;00m \u001B[38;5;66;03m# data processing, CSV file I/O (e.g. pd.read_csv)\u001B[39;00m\n\u001B[1;32m----> 7\u001B[0m \u001B[38;5;28;01mimport\u001B[39;00m \u001B[38;5;21;01mchart_studio\u001B[39;00m\u001B[38;5;21;01m.\u001B[39;00m\u001B[38;5;21;01mplotly\u001B[39;00m \u001B[38;5;28;01mas\u001B[39;00m \u001B[38;5;21;01mpy\u001B[39;00m\n",
      "\u001B[1;31mModuleNotFoundError\u001B[0m: No module named 'chart_studio'"
     ]
    }
   ],
   "source": [
    "# This Python 3 environment comes with many helpful analytics libraries installed\n",
    "# It is defined by the kaggle/python Docker image: https://github.com/kaggle/docker-python\n",
    "# For example, here's several helpful packages to load\n",
    "\n",
    "import numpy as np # linear algebra\n",
    "import pandas as pd # data processing, CSV file I/O (e.g. pd.read_csv)"
   ],
   "metadata": {
    "collapsed": false
   }
  },
  {
   "cell_type": "markdown",
   "source": [
    "**CRYPTOCURRENCY**\n",
    "\n",
    "* Cryptocurrency is a digital payment system. It's a peer-to-peer system that can enable anyone from anywhere to send and receive payments. When you transfer cryptocurrency funds, the transactions are recorded in a public ledger. Cryptocurrency is stored in digital wallets.\n",
    "\n",
    "* A cryptocurrency is an encrypted data string that denotes a unit of currency. It is monitored and organized by a peer-to-peer network called a blockchain, which also serves as a secure ledger of transactions, e.g., buying, selling, and transferring. Bitcoin, Ether, Litecoin, and Monero are popular cryptocurrencies."
   ],
   "metadata": {
    "collapsed": false
   }
  },
  {
   "cell_type": "code",
   "execution_count": 8,
   "outputs": [
    {
     "ename": "FileNotFoundError",
     "evalue": "No such file or directory: 'crypto_image.jpg'",
     "output_type": "error",
     "traceback": [
      "\u001B[1;31m---------------------------------------------------------------------------\u001B[0m",
      "\u001B[1;31mTypeError\u001B[0m                                 Traceback (most recent call last)",
      "File \u001B[1;32m~\\anaconda3\\envs\\data_analysis_NLP\\lib\\site-packages\\IPython\\core\\display.py:1032\u001B[0m, in \u001B[0;36mImage._data_and_metadata\u001B[1;34m(self, always_both)\u001B[0m\n\u001B[0;32m   1031\u001B[0m \u001B[38;5;28;01mtry\u001B[39;00m:\n\u001B[1;32m-> 1032\u001B[0m     b64_data \u001B[38;5;241m=\u001B[39m \u001B[43mb2a_base64\u001B[49m\u001B[43m(\u001B[49m\u001B[38;5;28;43mself\u001B[39;49m\u001B[38;5;241;43m.\u001B[39;49m\u001B[43mdata\u001B[49m\u001B[43m)\u001B[49m\u001B[38;5;241m.\u001B[39mdecode(\u001B[38;5;124m'\u001B[39m\u001B[38;5;124mascii\u001B[39m\u001B[38;5;124m'\u001B[39m)\n\u001B[0;32m   1033\u001B[0m \u001B[38;5;28;01mexcept\u001B[39;00m \u001B[38;5;167;01mTypeError\u001B[39;00m \u001B[38;5;28;01mas\u001B[39;00m e:\n",
      "\u001B[1;31mTypeError\u001B[0m: a bytes-like object is required, not 'str'",
      "\nThe above exception was the direct cause of the following exception:\n",
      "\u001B[1;31mFileNotFoundError\u001B[0m                         Traceback (most recent call last)",
      "File \u001B[1;32m~\\anaconda3\\envs\\data_analysis_NLP\\lib\\site-packages\\IPython\\core\\formatters.py:973\u001B[0m, in \u001B[0;36mMimeBundleFormatter.__call__\u001B[1;34m(self, obj, include, exclude)\u001B[0m\n\u001B[0;32m    970\u001B[0m     method \u001B[38;5;241m=\u001B[39m get_real_method(obj, \u001B[38;5;28mself\u001B[39m\u001B[38;5;241m.\u001B[39mprint_method)\n\u001B[0;32m    972\u001B[0m     \u001B[38;5;28;01mif\u001B[39;00m method \u001B[38;5;129;01mis\u001B[39;00m \u001B[38;5;129;01mnot\u001B[39;00m \u001B[38;5;28;01mNone\u001B[39;00m:\n\u001B[1;32m--> 973\u001B[0m         \u001B[38;5;28;01mreturn\u001B[39;00m \u001B[43mmethod\u001B[49m\u001B[43m(\u001B[49m\u001B[43minclude\u001B[49m\u001B[38;5;241;43m=\u001B[39;49m\u001B[43minclude\u001B[49m\u001B[43m,\u001B[49m\u001B[43m \u001B[49m\u001B[43mexclude\u001B[49m\u001B[38;5;241;43m=\u001B[39;49m\u001B[43mexclude\u001B[49m\u001B[43m)\u001B[49m\n\u001B[0;32m    974\u001B[0m     \u001B[38;5;28;01mreturn\u001B[39;00m \u001B[38;5;28;01mNone\u001B[39;00m\n\u001B[0;32m    975\u001B[0m \u001B[38;5;28;01melse\u001B[39;00m:\n",
      "File \u001B[1;32m~\\anaconda3\\envs\\data_analysis_NLP\\lib\\site-packages\\IPython\\core\\display.py:1022\u001B[0m, in \u001B[0;36mImage._repr_mimebundle_\u001B[1;34m(self, include, exclude)\u001B[0m\n\u001B[0;32m   1020\u001B[0m \u001B[38;5;28;01mif\u001B[39;00m \u001B[38;5;28mself\u001B[39m\u001B[38;5;241m.\u001B[39membed:\n\u001B[0;32m   1021\u001B[0m     mimetype \u001B[38;5;241m=\u001B[39m \u001B[38;5;28mself\u001B[39m\u001B[38;5;241m.\u001B[39m_mimetype\n\u001B[1;32m-> 1022\u001B[0m     data, metadata \u001B[38;5;241m=\u001B[39m \u001B[38;5;28;43mself\u001B[39;49m\u001B[38;5;241;43m.\u001B[39;49m\u001B[43m_data_and_metadata\u001B[49m\u001B[43m(\u001B[49m\u001B[43malways_both\u001B[49m\u001B[38;5;241;43m=\u001B[39;49m\u001B[38;5;28;43;01mTrue\u001B[39;49;00m\u001B[43m)\u001B[49m\n\u001B[0;32m   1023\u001B[0m     \u001B[38;5;28;01mif\u001B[39;00m metadata:\n\u001B[0;32m   1024\u001B[0m         metadata \u001B[38;5;241m=\u001B[39m {mimetype: metadata}\n",
      "File \u001B[1;32m~\\anaconda3\\envs\\data_analysis_NLP\\lib\\site-packages\\IPython\\core\\display.py:1034\u001B[0m, in \u001B[0;36mImage._data_and_metadata\u001B[1;34m(self, always_both)\u001B[0m\n\u001B[0;32m   1032\u001B[0m     b64_data \u001B[38;5;241m=\u001B[39m b2a_base64(\u001B[38;5;28mself\u001B[39m\u001B[38;5;241m.\u001B[39mdata)\u001B[38;5;241m.\u001B[39mdecode(\u001B[38;5;124m'\u001B[39m\u001B[38;5;124mascii\u001B[39m\u001B[38;5;124m'\u001B[39m)\n\u001B[0;32m   1033\u001B[0m \u001B[38;5;28;01mexcept\u001B[39;00m \u001B[38;5;167;01mTypeError\u001B[39;00m \u001B[38;5;28;01mas\u001B[39;00m e:\n\u001B[1;32m-> 1034\u001B[0m     \u001B[38;5;28;01mraise\u001B[39;00m \u001B[38;5;167;01mFileNotFoundError\u001B[39;00m(\n\u001B[0;32m   1035\u001B[0m         \u001B[38;5;124m\"\u001B[39m\u001B[38;5;124mNo such file or directory: \u001B[39m\u001B[38;5;124m'\u001B[39m\u001B[38;5;132;01m%s\u001B[39;00m\u001B[38;5;124m'\u001B[39m\u001B[38;5;124m\"\u001B[39m \u001B[38;5;241m%\u001B[39m (\u001B[38;5;28mself\u001B[39m\u001B[38;5;241m.\u001B[39mdata)) \u001B[38;5;28;01mfrom\u001B[39;00m \u001B[38;5;21;01me\u001B[39;00m\n\u001B[0;32m   1036\u001B[0m md \u001B[38;5;241m=\u001B[39m {}\n\u001B[0;32m   1037\u001B[0m \u001B[38;5;28;01mif\u001B[39;00m \u001B[38;5;28mself\u001B[39m\u001B[38;5;241m.\u001B[39mmetadata:\n",
      "\u001B[1;31mFileNotFoundError\u001B[0m: No such file or directory: 'crypto_image.jpg'"
     ]
    },
    {
     "ename": "FileNotFoundError",
     "evalue": "No such file or directory: 'crypto_image.jpg'",
     "output_type": "error",
     "traceback": [
      "\u001B[1;31m---------------------------------------------------------------------------\u001B[0m",
      "\u001B[1;31mTypeError\u001B[0m                                 Traceback (most recent call last)",
      "File \u001B[1;32m~\\anaconda3\\envs\\data_analysis_NLP\\lib\\site-packages\\IPython\\core\\display.py:1032\u001B[0m, in \u001B[0;36mImage._data_and_metadata\u001B[1;34m(self, always_both)\u001B[0m\n\u001B[0;32m   1031\u001B[0m \u001B[38;5;28;01mtry\u001B[39;00m:\n\u001B[1;32m-> 1032\u001B[0m     b64_data \u001B[38;5;241m=\u001B[39m \u001B[43mb2a_base64\u001B[49m\u001B[43m(\u001B[49m\u001B[38;5;28;43mself\u001B[39;49m\u001B[38;5;241;43m.\u001B[39;49m\u001B[43mdata\u001B[49m\u001B[43m)\u001B[49m\u001B[38;5;241m.\u001B[39mdecode(\u001B[38;5;124m'\u001B[39m\u001B[38;5;124mascii\u001B[39m\u001B[38;5;124m'\u001B[39m)\n\u001B[0;32m   1033\u001B[0m \u001B[38;5;28;01mexcept\u001B[39;00m \u001B[38;5;167;01mTypeError\u001B[39;00m \u001B[38;5;28;01mas\u001B[39;00m e:\n",
      "\u001B[1;31mTypeError\u001B[0m: a bytes-like object is required, not 'str'",
      "\nThe above exception was the direct cause of the following exception:\n",
      "\u001B[1;31mFileNotFoundError\u001B[0m                         Traceback (most recent call last)",
      "File \u001B[1;32m~\\anaconda3\\envs\\data_analysis_NLP\\lib\\site-packages\\IPython\\core\\formatters.py:343\u001B[0m, in \u001B[0;36mBaseFormatter.__call__\u001B[1;34m(self, obj)\u001B[0m\n\u001B[0;32m    341\u001B[0m     method \u001B[38;5;241m=\u001B[39m get_real_method(obj, \u001B[38;5;28mself\u001B[39m\u001B[38;5;241m.\u001B[39mprint_method)\n\u001B[0;32m    342\u001B[0m     \u001B[38;5;28;01mif\u001B[39;00m method \u001B[38;5;129;01mis\u001B[39;00m \u001B[38;5;129;01mnot\u001B[39;00m \u001B[38;5;28;01mNone\u001B[39;00m:\n\u001B[1;32m--> 343\u001B[0m         \u001B[38;5;28;01mreturn\u001B[39;00m \u001B[43mmethod\u001B[49m\u001B[43m(\u001B[49m\u001B[43m)\u001B[49m\n\u001B[0;32m    344\u001B[0m     \u001B[38;5;28;01mreturn\u001B[39;00m \u001B[38;5;28;01mNone\u001B[39;00m\n\u001B[0;32m    345\u001B[0m \u001B[38;5;28;01melse\u001B[39;00m:\n",
      "File \u001B[1;32m~\\anaconda3\\envs\\data_analysis_NLP\\lib\\site-packages\\IPython\\core\\display.py:1054\u001B[0m, in \u001B[0;36mImage._repr_png_\u001B[1;34m(self)\u001B[0m\n\u001B[0;32m   1052\u001B[0m \u001B[38;5;28;01mdef\u001B[39;00m \u001B[38;5;21m_repr_png_\u001B[39m(\u001B[38;5;28mself\u001B[39m):\n\u001B[0;32m   1053\u001B[0m     \u001B[38;5;28;01mif\u001B[39;00m \u001B[38;5;28mself\u001B[39m\u001B[38;5;241m.\u001B[39membed \u001B[38;5;129;01mand\u001B[39;00m \u001B[38;5;28mself\u001B[39m\u001B[38;5;241m.\u001B[39mformat \u001B[38;5;241m==\u001B[39m \u001B[38;5;28mself\u001B[39m\u001B[38;5;241m.\u001B[39m_FMT_PNG:\n\u001B[1;32m-> 1054\u001B[0m         \u001B[38;5;28;01mreturn\u001B[39;00m \u001B[38;5;28;43mself\u001B[39;49m\u001B[38;5;241;43m.\u001B[39;49m\u001B[43m_data_and_metadata\u001B[49m\u001B[43m(\u001B[49m\u001B[43m)\u001B[49m\n",
      "File \u001B[1;32m~\\anaconda3\\envs\\data_analysis_NLP\\lib\\site-packages\\IPython\\core\\display.py:1034\u001B[0m, in \u001B[0;36mImage._data_and_metadata\u001B[1;34m(self, always_both)\u001B[0m\n\u001B[0;32m   1032\u001B[0m     b64_data \u001B[38;5;241m=\u001B[39m b2a_base64(\u001B[38;5;28mself\u001B[39m\u001B[38;5;241m.\u001B[39mdata)\u001B[38;5;241m.\u001B[39mdecode(\u001B[38;5;124m'\u001B[39m\u001B[38;5;124mascii\u001B[39m\u001B[38;5;124m'\u001B[39m)\n\u001B[0;32m   1033\u001B[0m \u001B[38;5;28;01mexcept\u001B[39;00m \u001B[38;5;167;01mTypeError\u001B[39;00m \u001B[38;5;28;01mas\u001B[39;00m e:\n\u001B[1;32m-> 1034\u001B[0m     \u001B[38;5;28;01mraise\u001B[39;00m \u001B[38;5;167;01mFileNotFoundError\u001B[39;00m(\n\u001B[0;32m   1035\u001B[0m         \u001B[38;5;124m\"\u001B[39m\u001B[38;5;124mNo such file or directory: \u001B[39m\u001B[38;5;124m'\u001B[39m\u001B[38;5;132;01m%s\u001B[39;00m\u001B[38;5;124m'\u001B[39m\u001B[38;5;124m\"\u001B[39m \u001B[38;5;241m%\u001B[39m (\u001B[38;5;28mself\u001B[39m\u001B[38;5;241m.\u001B[39mdata)) \u001B[38;5;28;01mfrom\u001B[39;00m \u001B[38;5;21;01me\u001B[39;00m\n\u001B[0;32m   1036\u001B[0m md \u001B[38;5;241m=\u001B[39m {}\n\u001B[0;32m   1037\u001B[0m \u001B[38;5;28;01mif\u001B[39;00m \u001B[38;5;28mself\u001B[39m\u001B[38;5;241m.\u001B[39mmetadata:\n",
      "\u001B[1;31mFileNotFoundError\u001B[0m: No such file or directory: 'crypto_image.jpg'"
     ]
    },
    {
     "data": {
      "text/plain": "<IPython.core.display.Image object>"
     },
     "execution_count": 8,
     "metadata": {},
     "output_type": "execute_result"
    }
   ],
   "source": [
    "from IPython import display\n",
    "import os\n",
    "\n",
    "display.Image('crypto_image.jpg')"
   ],
   "metadata": {
    "collapsed": false
   }
  },
  {
   "cell_type": "markdown",
   "source": [
    "**According to Bill Gates, \" The future of money is digital currency \".**\n",
    "\n",
    "In this notebook, let us use a linear regression model to predict the cryptocurrency pricing movements especially for Monero, Ethereum, Wrapped Bitcoin & Bitcoin."
   ],
   "metadata": {
    "collapsed": false
   }
  },
  {
   "cell_type": "markdown",
   "source": [
    "**IMPORTING LIBRARIES**"
   ],
   "metadata": {
    "collapsed": false
   }
  },
  {
   "cell_type": "code",
   "execution_count": 9,
   "outputs": [
    {
     "ename": "ModuleNotFoundError",
     "evalue": "No module named 'plotly'",
     "output_type": "error",
     "traceback": [
      "\u001B[1;31m---------------------------------------------------------------------------\u001B[0m",
      "\u001B[1;31mModuleNotFoundError\u001B[0m                       Traceback (most recent call last)",
      "Input \u001B[1;32mIn [9]\u001B[0m, in \u001B[0;36m<cell line: 9>\u001B[1;34m()\u001B[0m\n\u001B[0;32m      7\u001B[0m \u001B[38;5;28;01mimport\u001B[39;00m \u001B[38;5;21;01mmatplotlib\u001B[39;00m\u001B[38;5;21;01m.\u001B[39;00m\u001B[38;5;21;01mpyplot\u001B[39;00m \u001B[38;5;28;01mas\u001B[39;00m \u001B[38;5;21;01mplt\u001B[39;00m\n\u001B[0;32m      8\u001B[0m \u001B[38;5;28;01mfrom\u001B[39;00m \u001B[38;5;21;01mitertools\u001B[39;00m \u001B[38;5;28;01mimport\u001B[39;00m cycle\n\u001B[1;32m----> 9\u001B[0m \u001B[38;5;28;01mimport\u001B[39;00m \u001B[38;5;21;01mplotly\u001B[39;00m\u001B[38;5;21;01m.\u001B[39;00m\u001B[38;5;21;01mgraph_objects\u001B[39;00m \u001B[38;5;28;01mas\u001B[39;00m \u001B[38;5;21;01mgo\u001B[39;00m\n\u001B[0;32m     10\u001B[0m \u001B[38;5;28;01mimport\u001B[39;00m \u001B[38;5;21;01mplotly\u001B[39;00m\u001B[38;5;21;01m.\u001B[39;00m\u001B[38;5;21;01mexpress\u001B[39;00m \u001B[38;5;28;01mas\u001B[39;00m \u001B[38;5;21;01mpx\u001B[39;00m\n\u001B[0;32m     11\u001B[0m \u001B[38;5;28;01mfrom\u001B[39;00m \u001B[38;5;21;01mplotly\u001B[39;00m\u001B[38;5;21;01m.\u001B[39;00m\u001B[38;5;21;01msubplots\u001B[39;00m \u001B[38;5;28;01mimport\u001B[39;00m make_subplots\n",
      "\u001B[1;31mModuleNotFoundError\u001B[0m: No module named 'plotly'"
     ]
    }
   ],
   "source": [
    "import pandas as pd\n",
    "import numpy as np\n",
    "\n",
    "from sklearn.linear_model import LinearRegression\n",
    "from sklearn.model_selection import train_test_split\n",
    "\n",
    "import matplotlib.pyplot as plt\n",
    "from itertools import cycle\n",
    "import plotly.graph_objects as go\n",
    "import plotly.express as px\n",
    "from plotly.subplots import make_subplots"
   ],
   "metadata": {
    "collapsed": false
   }
  },
  {
   "cell_type": "markdown",
   "source": [
    "**LOADING THE DATA**"
   ],
   "metadata": {
    "collapsed": false
   }
  },
  {
   "cell_type": "markdown",
   "source": [
    "**Binance Coin**\n",
    "\n",
    "BNB Coin is a cryptocurrency that is used primarily to pay transaction and trading fees on the Binance exchange."
   ],
   "metadata": {
    "collapsed": false
   }
  },
  {
   "cell_type": "code",
   "execution_count": 13,
   "outputs": [
    {
     "data": {
      "text/plain": "       SNo          Name Symbol                 Date        High         Low  \\\n0        1  Binance Coin    BNB  2017-07-26 23:59:59    0.109013    0.099266   \n1        2  Binance Coin    BNB  2017-07-27 23:59:59    0.108479    0.100888   \n2        3  Binance Coin    BNB  2017-07-28 23:59:59    0.109019    0.101473   \n3        4  Binance Coin    BNB  2017-07-29 23:59:59    0.111264    0.101108   \n4        5  Binance Coin    BNB  2017-07-30 23:59:59    0.108138    0.103162   \n...    ...           ...    ...                  ...         ...         ...   \n1437  1438  Binance Coin    BNB  2021-07-02 23:59:59  290.621683  277.350302   \n1438  1439  Binance Coin    BNB  2021-07-03 23:59:59  302.605867  283.434010   \n1439  1440  Binance Coin    BNB  2021-07-04 23:59:59  314.713019  292.787370   \n1440  1441  Binance Coin    BNB  2021-07-05 23:59:59  307.684855  293.523465   \n1441  1442  Binance Coin    BNB  2021-07-06 23:59:59  321.520965  302.195584   \n\n            Open       Close        Volume     Marketcap  \n0       0.105893    0.105138  2.003950e+05  1.051380e+07  \n1       0.105108    0.107737  3.444990e+05  1.077370e+07  \n2       0.107632    0.104067  3.425680e+05  1.040670e+07  \n3       0.104782    0.107811  3.402180e+05  1.078110e+07  \n4       0.107935    0.106414  2.242610e+05  1.064140e+07  \n...          ...         ...           ...           ...  \n1437  287.754456  287.423094  1.133633e+09  4.410016e+10  \n1438  287.215592  298.237117  1.113777e+09  4.575938e+10  \n1439  298.113557  307.732096  1.387396e+09  4.721623e+10  \n1440  307.684855  302.377980  1.504870e+09  4.639473e+10  \n1441  302.195584  320.934802  2.203265e+09  4.924196e+10  \n\n[1442 rows x 10 columns]",
      "text/html": "<div>\n<style scoped>\n    .dataframe tbody tr th:only-of-type {\n        vertical-align: middle;\n    }\n\n    .dataframe tbody tr th {\n        vertical-align: top;\n    }\n\n    .dataframe thead th {\n        text-align: right;\n    }\n</style>\n<table border=\"1\" class=\"dataframe\">\n  <thead>\n    <tr style=\"text-align: right;\">\n      <th></th>\n      <th>SNo</th>\n      <th>Name</th>\n      <th>Symbol</th>\n      <th>Date</th>\n      <th>High</th>\n      <th>Low</th>\n      <th>Open</th>\n      <th>Close</th>\n      <th>Volume</th>\n      <th>Marketcap</th>\n    </tr>\n  </thead>\n  <tbody>\n    <tr>\n      <th>0</th>\n      <td>1</td>\n      <td>Binance Coin</td>\n      <td>BNB</td>\n      <td>2017-07-26 23:59:59</td>\n      <td>0.109013</td>\n      <td>0.099266</td>\n      <td>0.105893</td>\n      <td>0.105138</td>\n      <td>2.003950e+05</td>\n      <td>1.051380e+07</td>\n    </tr>\n    <tr>\n      <th>1</th>\n      <td>2</td>\n      <td>Binance Coin</td>\n      <td>BNB</td>\n      <td>2017-07-27 23:59:59</td>\n      <td>0.108479</td>\n      <td>0.100888</td>\n      <td>0.105108</td>\n      <td>0.107737</td>\n      <td>3.444990e+05</td>\n      <td>1.077370e+07</td>\n    </tr>\n    <tr>\n      <th>2</th>\n      <td>3</td>\n      <td>Binance Coin</td>\n      <td>BNB</td>\n      <td>2017-07-28 23:59:59</td>\n      <td>0.109019</td>\n      <td>0.101473</td>\n      <td>0.107632</td>\n      <td>0.104067</td>\n      <td>3.425680e+05</td>\n      <td>1.040670e+07</td>\n    </tr>\n    <tr>\n      <th>3</th>\n      <td>4</td>\n      <td>Binance Coin</td>\n      <td>BNB</td>\n      <td>2017-07-29 23:59:59</td>\n      <td>0.111264</td>\n      <td>0.101108</td>\n      <td>0.104782</td>\n      <td>0.107811</td>\n      <td>3.402180e+05</td>\n      <td>1.078110e+07</td>\n    </tr>\n    <tr>\n      <th>4</th>\n      <td>5</td>\n      <td>Binance Coin</td>\n      <td>BNB</td>\n      <td>2017-07-30 23:59:59</td>\n      <td>0.108138</td>\n      <td>0.103162</td>\n      <td>0.107935</td>\n      <td>0.106414</td>\n      <td>2.242610e+05</td>\n      <td>1.064140e+07</td>\n    </tr>\n    <tr>\n      <th>...</th>\n      <td>...</td>\n      <td>...</td>\n      <td>...</td>\n      <td>...</td>\n      <td>...</td>\n      <td>...</td>\n      <td>...</td>\n      <td>...</td>\n      <td>...</td>\n      <td>...</td>\n    </tr>\n    <tr>\n      <th>1437</th>\n      <td>1438</td>\n      <td>Binance Coin</td>\n      <td>BNB</td>\n      <td>2021-07-02 23:59:59</td>\n      <td>290.621683</td>\n      <td>277.350302</td>\n      <td>287.754456</td>\n      <td>287.423094</td>\n      <td>1.133633e+09</td>\n      <td>4.410016e+10</td>\n    </tr>\n    <tr>\n      <th>1438</th>\n      <td>1439</td>\n      <td>Binance Coin</td>\n      <td>BNB</td>\n      <td>2021-07-03 23:59:59</td>\n      <td>302.605867</td>\n      <td>283.434010</td>\n      <td>287.215592</td>\n      <td>298.237117</td>\n      <td>1.113777e+09</td>\n      <td>4.575938e+10</td>\n    </tr>\n    <tr>\n      <th>1439</th>\n      <td>1440</td>\n      <td>Binance Coin</td>\n      <td>BNB</td>\n      <td>2021-07-04 23:59:59</td>\n      <td>314.713019</td>\n      <td>292.787370</td>\n      <td>298.113557</td>\n      <td>307.732096</td>\n      <td>1.387396e+09</td>\n      <td>4.721623e+10</td>\n    </tr>\n    <tr>\n      <th>1440</th>\n      <td>1441</td>\n      <td>Binance Coin</td>\n      <td>BNB</td>\n      <td>2021-07-05 23:59:59</td>\n      <td>307.684855</td>\n      <td>293.523465</td>\n      <td>307.684855</td>\n      <td>302.377980</td>\n      <td>1.504870e+09</td>\n      <td>4.639473e+10</td>\n    </tr>\n    <tr>\n      <th>1441</th>\n      <td>1442</td>\n      <td>Binance Coin</td>\n      <td>BNB</td>\n      <td>2021-07-06 23:59:59</td>\n      <td>321.520965</td>\n      <td>302.195584</td>\n      <td>302.195584</td>\n      <td>320.934802</td>\n      <td>2.203265e+09</td>\n      <td>4.924196e+10</td>\n    </tr>\n  </tbody>\n</table>\n<p>1442 rows × 10 columns</p>\n</div>"
     },
     "execution_count": 13,
     "metadata": {},
     "output_type": "execute_result"
    }
   ],
   "source": [
    "Binance_coin = pd.read_csv(\"coin_BinanceCoin.csv\")\n",
    "Binance_coin"
   ],
   "metadata": {
    "collapsed": false
   }
  },
  {
   "cell_type": "markdown",
   "source": [
    "**ETHEREUM**\n",
    "\n",
    "Ethereum is a platform powered by blockchain technology that is best known for its native cryptocurrency, called ether, or ETH, or simply ethereum. The distributed nature of blockchain technology is what makes the Ethereum platform secure, and that security enables ETH to accrue value."
   ],
   "metadata": {
    "collapsed": false
   }
  },
  {
   "cell_type": "code",
   "execution_count": 14,
   "outputs": [
    {
     "data": {
      "text/plain": "       SNo      Name Symbol                 Date         High          Low  \\\n0        1  Ethereum    ETH  2015-08-08 23:59:59     2.798810     0.714725   \n1        2  Ethereum    ETH  2015-08-09 23:59:59     0.879810     0.629191   \n2        3  Ethereum    ETH  2015-08-10 23:59:59     0.729854     0.636546   \n3        4  Ethereum    ETH  2015-08-11 23:59:59     1.131410     0.663235   \n4        5  Ethereum    ETH  2015-08-12 23:59:59     1.289940     0.883608   \n...    ...       ...    ...                  ...          ...          ...   \n2155  2156  Ethereum    ETH  2021-07-02 23:59:59  2155.596496  2021.824808   \n2156  2157  Ethereum    ETH  2021-07-03 23:59:59  2237.567155  2117.590013   \n2157  2158  Ethereum    ETH  2021-07-04 23:59:59  2384.286857  2190.837703   \n2158  2159  Ethereum    ETH  2021-07-05 23:59:59  2321.922836  2163.041394   \n2159  2160  Ethereum    ETH  2021-07-06 23:59:59  2346.294874  2197.919385   \n\n             Open        Close        Volume     Marketcap  \n0        2.793760     0.753325  6.741880e+05  4.548689e+07  \n1        0.706136     0.701897  5.321700e+05  4.239957e+07  \n2        0.713989     0.708448  4.052830e+05  4.281836e+07  \n3        0.708087     1.067860  1.463100e+06  6.456929e+07  \n4        1.058750     1.217440  2.150620e+06  7.364501e+07  \n...           ...          ...           ...           ...  \n2155  2109.892677  2150.040364  3.179621e+10  2.505527e+11  \n2156  2150.835025  2226.114282  1.743336e+10  2.594475e+11  \n2157  2226.550382  2321.724112  1.878711e+10  2.706217e+11  \n2158  2321.922836  2198.582464  2.010379e+10  2.562978e+11  \n2159  2197.919385  2324.679449  2.089186e+10  2.710286e+11  \n\n[2160 rows x 10 columns]",
      "text/html": "<div>\n<style scoped>\n    .dataframe tbody tr th:only-of-type {\n        vertical-align: middle;\n    }\n\n    .dataframe tbody tr th {\n        vertical-align: top;\n    }\n\n    .dataframe thead th {\n        text-align: right;\n    }\n</style>\n<table border=\"1\" class=\"dataframe\">\n  <thead>\n    <tr style=\"text-align: right;\">\n      <th></th>\n      <th>SNo</th>\n      <th>Name</th>\n      <th>Symbol</th>\n      <th>Date</th>\n      <th>High</th>\n      <th>Low</th>\n      <th>Open</th>\n      <th>Close</th>\n      <th>Volume</th>\n      <th>Marketcap</th>\n    </tr>\n  </thead>\n  <tbody>\n    <tr>\n      <th>0</th>\n      <td>1</td>\n      <td>Ethereum</td>\n      <td>ETH</td>\n      <td>2015-08-08 23:59:59</td>\n      <td>2.798810</td>\n      <td>0.714725</td>\n      <td>2.793760</td>\n      <td>0.753325</td>\n      <td>6.741880e+05</td>\n      <td>4.548689e+07</td>\n    </tr>\n    <tr>\n      <th>1</th>\n      <td>2</td>\n      <td>Ethereum</td>\n      <td>ETH</td>\n      <td>2015-08-09 23:59:59</td>\n      <td>0.879810</td>\n      <td>0.629191</td>\n      <td>0.706136</td>\n      <td>0.701897</td>\n      <td>5.321700e+05</td>\n      <td>4.239957e+07</td>\n    </tr>\n    <tr>\n      <th>2</th>\n      <td>3</td>\n      <td>Ethereum</td>\n      <td>ETH</td>\n      <td>2015-08-10 23:59:59</td>\n      <td>0.729854</td>\n      <td>0.636546</td>\n      <td>0.713989</td>\n      <td>0.708448</td>\n      <td>4.052830e+05</td>\n      <td>4.281836e+07</td>\n    </tr>\n    <tr>\n      <th>3</th>\n      <td>4</td>\n      <td>Ethereum</td>\n      <td>ETH</td>\n      <td>2015-08-11 23:59:59</td>\n      <td>1.131410</td>\n      <td>0.663235</td>\n      <td>0.708087</td>\n      <td>1.067860</td>\n      <td>1.463100e+06</td>\n      <td>6.456929e+07</td>\n    </tr>\n    <tr>\n      <th>4</th>\n      <td>5</td>\n      <td>Ethereum</td>\n      <td>ETH</td>\n      <td>2015-08-12 23:59:59</td>\n      <td>1.289940</td>\n      <td>0.883608</td>\n      <td>1.058750</td>\n      <td>1.217440</td>\n      <td>2.150620e+06</td>\n      <td>7.364501e+07</td>\n    </tr>\n    <tr>\n      <th>...</th>\n      <td>...</td>\n      <td>...</td>\n      <td>...</td>\n      <td>...</td>\n      <td>...</td>\n      <td>...</td>\n      <td>...</td>\n      <td>...</td>\n      <td>...</td>\n      <td>...</td>\n    </tr>\n    <tr>\n      <th>2155</th>\n      <td>2156</td>\n      <td>Ethereum</td>\n      <td>ETH</td>\n      <td>2021-07-02 23:59:59</td>\n      <td>2155.596496</td>\n      <td>2021.824808</td>\n      <td>2109.892677</td>\n      <td>2150.040364</td>\n      <td>3.179621e+10</td>\n      <td>2.505527e+11</td>\n    </tr>\n    <tr>\n      <th>2156</th>\n      <td>2157</td>\n      <td>Ethereum</td>\n      <td>ETH</td>\n      <td>2021-07-03 23:59:59</td>\n      <td>2237.567155</td>\n      <td>2117.590013</td>\n      <td>2150.835025</td>\n      <td>2226.114282</td>\n      <td>1.743336e+10</td>\n      <td>2.594475e+11</td>\n    </tr>\n    <tr>\n      <th>2157</th>\n      <td>2158</td>\n      <td>Ethereum</td>\n      <td>ETH</td>\n      <td>2021-07-04 23:59:59</td>\n      <td>2384.286857</td>\n      <td>2190.837703</td>\n      <td>2226.550382</td>\n      <td>2321.724112</td>\n      <td>1.878711e+10</td>\n      <td>2.706217e+11</td>\n    </tr>\n    <tr>\n      <th>2158</th>\n      <td>2159</td>\n      <td>Ethereum</td>\n      <td>ETH</td>\n      <td>2021-07-05 23:59:59</td>\n      <td>2321.922836</td>\n      <td>2163.041394</td>\n      <td>2321.922836</td>\n      <td>2198.582464</td>\n      <td>2.010379e+10</td>\n      <td>2.562978e+11</td>\n    </tr>\n    <tr>\n      <th>2159</th>\n      <td>2160</td>\n      <td>Ethereum</td>\n      <td>ETH</td>\n      <td>2021-07-06 23:59:59</td>\n      <td>2346.294874</td>\n      <td>2197.919385</td>\n      <td>2197.919385</td>\n      <td>2324.679449</td>\n      <td>2.089186e+10</td>\n      <td>2.710286e+11</td>\n    </tr>\n  </tbody>\n</table>\n<p>2160 rows × 10 columns</p>\n</div>"
     },
     "execution_count": 14,
     "metadata": {},
     "output_type": "execute_result"
    }
   ],
   "source": [
    "Ethereum = pd.read_csv(\"coin_Ethereum.csv\")\n",
    "Ethereum"
   ],
   "metadata": {
    "collapsed": false
   }
  },
  {
   "cell_type": "markdown",
   "source": [
    "**BITCOIN**\n",
    "\n",
    "Bitcoin is a digital currency which operates free of any central control or the oversight of banks or governments. Instead it relies on peer-to-peer software and cryptography. A public ledger records all bitcoin transactions and copies are held on servers around the world."
   ],
   "metadata": {
    "collapsed": false
   }
  },
  {
   "cell_type": "code",
   "execution_count": 15,
   "outputs": [
    {
     "data": {
      "text/plain": "       SNo     Name Symbol                 Date          High           Low  \\\n0        1  Bitcoin    BTC  2013-04-29 23:59:59    147.488007    134.000000   \n1        2  Bitcoin    BTC  2013-04-30 23:59:59    146.929993    134.050003   \n2        3  Bitcoin    BTC  2013-05-01 23:59:59    139.889999    107.720001   \n3        4  Bitcoin    BTC  2013-05-02 23:59:59    125.599998     92.281898   \n4        5  Bitcoin    BTC  2013-05-03 23:59:59    108.127998     79.099998   \n...    ...      ...    ...                  ...           ...           ...   \n2986  2987  Bitcoin    BTC  2021-07-02 23:59:59  33939.588699  32770.680780   \n2987  2988  Bitcoin    BTC  2021-07-03 23:59:59  34909.259899  33402.696536   \n2988  2989  Bitcoin    BTC  2021-07-04 23:59:59  35937.567147  34396.477458   \n2989  2990  Bitcoin    BTC  2021-07-05 23:59:59  35284.344430  33213.661034   \n2990  2991  Bitcoin    BTC  2021-07-06 23:59:59  35038.536363  33599.916169   \n\n              Open         Close        Volume     Marketcap  \n0       134.444000    144.539993  0.000000e+00  1.603769e+09  \n1       144.000000    139.000000  0.000000e+00  1.542813e+09  \n2       139.000000    116.989998  0.000000e+00  1.298955e+09  \n3       116.379997    105.209999  0.000000e+00  1.168517e+09  \n4       106.250000     97.750000  0.000000e+00  1.085995e+09  \n...            ...           ...           ...           ...  \n2986  33549.600177  33897.048590  3.872897e+10  6.354508e+11  \n2987  33854.421362  34668.548402  2.438396e+10  6.499397e+11  \n2988  34665.564866  35287.779766  2.492431e+10  6.615748e+11  \n2989  35284.344430  33746.002456  2.672155e+10  6.326962e+11  \n2990  33723.509655  34235.193451  2.650126e+10  6.418992e+11  \n\n[2991 rows x 10 columns]",
      "text/html": "<div>\n<style scoped>\n    .dataframe tbody tr th:only-of-type {\n        vertical-align: middle;\n    }\n\n    .dataframe tbody tr th {\n        vertical-align: top;\n    }\n\n    .dataframe thead th {\n        text-align: right;\n    }\n</style>\n<table border=\"1\" class=\"dataframe\">\n  <thead>\n    <tr style=\"text-align: right;\">\n      <th></th>\n      <th>SNo</th>\n      <th>Name</th>\n      <th>Symbol</th>\n      <th>Date</th>\n      <th>High</th>\n      <th>Low</th>\n      <th>Open</th>\n      <th>Close</th>\n      <th>Volume</th>\n      <th>Marketcap</th>\n    </tr>\n  </thead>\n  <tbody>\n    <tr>\n      <th>0</th>\n      <td>1</td>\n      <td>Bitcoin</td>\n      <td>BTC</td>\n      <td>2013-04-29 23:59:59</td>\n      <td>147.488007</td>\n      <td>134.000000</td>\n      <td>134.444000</td>\n      <td>144.539993</td>\n      <td>0.000000e+00</td>\n      <td>1.603769e+09</td>\n    </tr>\n    <tr>\n      <th>1</th>\n      <td>2</td>\n      <td>Bitcoin</td>\n      <td>BTC</td>\n      <td>2013-04-30 23:59:59</td>\n      <td>146.929993</td>\n      <td>134.050003</td>\n      <td>144.000000</td>\n      <td>139.000000</td>\n      <td>0.000000e+00</td>\n      <td>1.542813e+09</td>\n    </tr>\n    <tr>\n      <th>2</th>\n      <td>3</td>\n      <td>Bitcoin</td>\n      <td>BTC</td>\n      <td>2013-05-01 23:59:59</td>\n      <td>139.889999</td>\n      <td>107.720001</td>\n      <td>139.000000</td>\n      <td>116.989998</td>\n      <td>0.000000e+00</td>\n      <td>1.298955e+09</td>\n    </tr>\n    <tr>\n      <th>3</th>\n      <td>4</td>\n      <td>Bitcoin</td>\n      <td>BTC</td>\n      <td>2013-05-02 23:59:59</td>\n      <td>125.599998</td>\n      <td>92.281898</td>\n      <td>116.379997</td>\n      <td>105.209999</td>\n      <td>0.000000e+00</td>\n      <td>1.168517e+09</td>\n    </tr>\n    <tr>\n      <th>4</th>\n      <td>5</td>\n      <td>Bitcoin</td>\n      <td>BTC</td>\n      <td>2013-05-03 23:59:59</td>\n      <td>108.127998</td>\n      <td>79.099998</td>\n      <td>106.250000</td>\n      <td>97.750000</td>\n      <td>0.000000e+00</td>\n      <td>1.085995e+09</td>\n    </tr>\n    <tr>\n      <th>...</th>\n      <td>...</td>\n      <td>...</td>\n      <td>...</td>\n      <td>...</td>\n      <td>...</td>\n      <td>...</td>\n      <td>...</td>\n      <td>...</td>\n      <td>...</td>\n      <td>...</td>\n    </tr>\n    <tr>\n      <th>2986</th>\n      <td>2987</td>\n      <td>Bitcoin</td>\n      <td>BTC</td>\n      <td>2021-07-02 23:59:59</td>\n      <td>33939.588699</td>\n      <td>32770.680780</td>\n      <td>33549.600177</td>\n      <td>33897.048590</td>\n      <td>3.872897e+10</td>\n      <td>6.354508e+11</td>\n    </tr>\n    <tr>\n      <th>2987</th>\n      <td>2988</td>\n      <td>Bitcoin</td>\n      <td>BTC</td>\n      <td>2021-07-03 23:59:59</td>\n      <td>34909.259899</td>\n      <td>33402.696536</td>\n      <td>33854.421362</td>\n      <td>34668.548402</td>\n      <td>2.438396e+10</td>\n      <td>6.499397e+11</td>\n    </tr>\n    <tr>\n      <th>2988</th>\n      <td>2989</td>\n      <td>Bitcoin</td>\n      <td>BTC</td>\n      <td>2021-07-04 23:59:59</td>\n      <td>35937.567147</td>\n      <td>34396.477458</td>\n      <td>34665.564866</td>\n      <td>35287.779766</td>\n      <td>2.492431e+10</td>\n      <td>6.615748e+11</td>\n    </tr>\n    <tr>\n      <th>2989</th>\n      <td>2990</td>\n      <td>Bitcoin</td>\n      <td>BTC</td>\n      <td>2021-07-05 23:59:59</td>\n      <td>35284.344430</td>\n      <td>33213.661034</td>\n      <td>35284.344430</td>\n      <td>33746.002456</td>\n      <td>2.672155e+10</td>\n      <td>6.326962e+11</td>\n    </tr>\n    <tr>\n      <th>2990</th>\n      <td>2991</td>\n      <td>Bitcoin</td>\n      <td>BTC</td>\n      <td>2021-07-06 23:59:59</td>\n      <td>35038.536363</td>\n      <td>33599.916169</td>\n      <td>33723.509655</td>\n      <td>34235.193451</td>\n      <td>2.650126e+10</td>\n      <td>6.418992e+11</td>\n    </tr>\n  </tbody>\n</table>\n<p>2991 rows × 10 columns</p>\n</div>"
     },
     "execution_count": 15,
     "metadata": {},
     "output_type": "execute_result"
    }
   ],
   "source": [
    "Bitcoin = pd.read_csv(\"coin_Bitcoin.csv\")\n",
    "Bitcoin"
   ],
   "metadata": {
    "collapsed": false
   }
  },
  {
   "cell_type": "markdown",
   "source": [
    "**CREATION OF A TARGET COLUMN**\n",
    "\n",
    "* Creation of a variable for predicting 'N' days out into the future(here, let us assume N = 5).\n",
    "\n",
    "* Creation of a new column with a name Prediction.\n",
    "\n",
    "\n",
    "\n"
   ],
   "metadata": {
    "collapsed": false
   }
  },
  {
   "cell_type": "code",
   "execution_count": 16,
   "outputs": [
    {
     "data": {
      "text/plain": "       SNo          Name Symbol                 Date        High         Low  \\\n0        1  Binance Coin    BNB  2017-07-26 23:59:59    0.109013    0.099266   \n1        2  Binance Coin    BNB  2017-07-27 23:59:59    0.108479    0.100888   \n2        3  Binance Coin    BNB  2017-07-28 23:59:59    0.109019    0.101473   \n3        4  Binance Coin    BNB  2017-07-29 23:59:59    0.111264    0.101108   \n4        5  Binance Coin    BNB  2017-07-30 23:59:59    0.108138    0.103162   \n...    ...           ...    ...                  ...         ...         ...   \n1437  1438  Binance Coin    BNB  2021-07-02 23:59:59  290.621683  277.350302   \n1438  1439  Binance Coin    BNB  2021-07-03 23:59:59  302.605867  283.434010   \n1439  1440  Binance Coin    BNB  2021-07-04 23:59:59  314.713019  292.787370   \n1440  1441  Binance Coin    BNB  2021-07-05 23:59:59  307.684855  293.523465   \n1441  1442  Binance Coin    BNB  2021-07-06 23:59:59  321.520965  302.195584   \n\n            Open       Close        Volume     Marketcap  Prediction  \n0       0.105893    0.105138  2.003950e+05  1.051380e+07    0.104250  \n1       0.105108    0.107737  3.444990e+05  1.077370e+07    0.099867  \n2       0.107632    0.104067  3.425680e+05  1.040670e+07    0.100452  \n3       0.104782    0.107811  3.402180e+05  1.078110e+07    0.106642  \n4       0.107935    0.106414  2.242610e+05  1.064140e+07    0.107494  \n...          ...         ...           ...           ...         ...  \n1437  287.754456  287.423094  1.133633e+09  4.410016e+10         NaN  \n1438  287.215592  298.237117  1.113777e+09  4.575938e+10         NaN  \n1439  298.113557  307.732096  1.387396e+09  4.721623e+10         NaN  \n1440  307.684855  302.377980  1.504870e+09  4.639473e+10         NaN  \n1441  302.195584  320.934802  2.203265e+09  4.924196e+10         NaN  \n\n[1442 rows x 11 columns]",
      "text/html": "<div>\n<style scoped>\n    .dataframe tbody tr th:only-of-type {\n        vertical-align: middle;\n    }\n\n    .dataframe tbody tr th {\n        vertical-align: top;\n    }\n\n    .dataframe thead th {\n        text-align: right;\n    }\n</style>\n<table border=\"1\" class=\"dataframe\">\n  <thead>\n    <tr style=\"text-align: right;\">\n      <th></th>\n      <th>SNo</th>\n      <th>Name</th>\n      <th>Symbol</th>\n      <th>Date</th>\n      <th>High</th>\n      <th>Low</th>\n      <th>Open</th>\n      <th>Close</th>\n      <th>Volume</th>\n      <th>Marketcap</th>\n      <th>Prediction</th>\n    </tr>\n  </thead>\n  <tbody>\n    <tr>\n      <th>0</th>\n      <td>1</td>\n      <td>Binance Coin</td>\n      <td>BNB</td>\n      <td>2017-07-26 23:59:59</td>\n      <td>0.109013</td>\n      <td>0.099266</td>\n      <td>0.105893</td>\n      <td>0.105138</td>\n      <td>2.003950e+05</td>\n      <td>1.051380e+07</td>\n      <td>0.104250</td>\n    </tr>\n    <tr>\n      <th>1</th>\n      <td>2</td>\n      <td>Binance Coin</td>\n      <td>BNB</td>\n      <td>2017-07-27 23:59:59</td>\n      <td>0.108479</td>\n      <td>0.100888</td>\n      <td>0.105108</td>\n      <td>0.107737</td>\n      <td>3.444990e+05</td>\n      <td>1.077370e+07</td>\n      <td>0.099867</td>\n    </tr>\n    <tr>\n      <th>2</th>\n      <td>3</td>\n      <td>Binance Coin</td>\n      <td>BNB</td>\n      <td>2017-07-28 23:59:59</td>\n      <td>0.109019</td>\n      <td>0.101473</td>\n      <td>0.107632</td>\n      <td>0.104067</td>\n      <td>3.425680e+05</td>\n      <td>1.040670e+07</td>\n      <td>0.100452</td>\n    </tr>\n    <tr>\n      <th>3</th>\n      <td>4</td>\n      <td>Binance Coin</td>\n      <td>BNB</td>\n      <td>2017-07-29 23:59:59</td>\n      <td>0.111264</td>\n      <td>0.101108</td>\n      <td>0.104782</td>\n      <td>0.107811</td>\n      <td>3.402180e+05</td>\n      <td>1.078110e+07</td>\n      <td>0.106642</td>\n    </tr>\n    <tr>\n      <th>4</th>\n      <td>5</td>\n      <td>Binance Coin</td>\n      <td>BNB</td>\n      <td>2017-07-30 23:59:59</td>\n      <td>0.108138</td>\n      <td>0.103162</td>\n      <td>0.107935</td>\n      <td>0.106414</td>\n      <td>2.242610e+05</td>\n      <td>1.064140e+07</td>\n      <td>0.107494</td>\n    </tr>\n    <tr>\n      <th>...</th>\n      <td>...</td>\n      <td>...</td>\n      <td>...</td>\n      <td>...</td>\n      <td>...</td>\n      <td>...</td>\n      <td>...</td>\n      <td>...</td>\n      <td>...</td>\n      <td>...</td>\n      <td>...</td>\n    </tr>\n    <tr>\n      <th>1437</th>\n      <td>1438</td>\n      <td>Binance Coin</td>\n      <td>BNB</td>\n      <td>2021-07-02 23:59:59</td>\n      <td>290.621683</td>\n      <td>277.350302</td>\n      <td>287.754456</td>\n      <td>287.423094</td>\n      <td>1.133633e+09</td>\n      <td>4.410016e+10</td>\n      <td>NaN</td>\n    </tr>\n    <tr>\n      <th>1438</th>\n      <td>1439</td>\n      <td>Binance Coin</td>\n      <td>BNB</td>\n      <td>2021-07-03 23:59:59</td>\n      <td>302.605867</td>\n      <td>283.434010</td>\n      <td>287.215592</td>\n      <td>298.237117</td>\n      <td>1.113777e+09</td>\n      <td>4.575938e+10</td>\n      <td>NaN</td>\n    </tr>\n    <tr>\n      <th>1439</th>\n      <td>1440</td>\n      <td>Binance Coin</td>\n      <td>BNB</td>\n      <td>2021-07-04 23:59:59</td>\n      <td>314.713019</td>\n      <td>292.787370</td>\n      <td>298.113557</td>\n      <td>307.732096</td>\n      <td>1.387396e+09</td>\n      <td>4.721623e+10</td>\n      <td>NaN</td>\n    </tr>\n    <tr>\n      <th>1440</th>\n      <td>1441</td>\n      <td>Binance Coin</td>\n      <td>BNB</td>\n      <td>2021-07-05 23:59:59</td>\n      <td>307.684855</td>\n      <td>293.523465</td>\n      <td>307.684855</td>\n      <td>302.377980</td>\n      <td>1.504870e+09</td>\n      <td>4.639473e+10</td>\n      <td>NaN</td>\n    </tr>\n    <tr>\n      <th>1441</th>\n      <td>1442</td>\n      <td>Binance Coin</td>\n      <td>BNB</td>\n      <td>2021-07-06 23:59:59</td>\n      <td>321.520965</td>\n      <td>302.195584</td>\n      <td>302.195584</td>\n      <td>320.934802</td>\n      <td>2.203265e+09</td>\n      <td>4.924196e+10</td>\n      <td>NaN</td>\n    </tr>\n  </tbody>\n</table>\n<p>1442 rows × 11 columns</p>\n</div>"
     },
     "execution_count": 16,
     "metadata": {},
     "output_type": "execute_result"
    }
   ],
   "source": [
    "################################################### Monero #############################################################\n",
    "#Creation of a variable for predicting '5' days out into the future\n",
    "projection_Binance_coin = 5\n",
    "#creation of a new column with a name prediction\n",
    "Binance_coin['Prediction'] = Binance_coin[['Close']].shift(-projection_Binance_coin)\n",
    "Binance_coin"
   ],
   "metadata": {
    "collapsed": false
   }
  },
  {
   "cell_type": "code",
   "execution_count": 18,
   "outputs": [
    {
     "data": {
      "text/plain": "       SNo      Name Symbol                 Date         High          Low  \\\n0        1  Ethereum    ETH  2015-08-08 23:59:59     2.798810     0.714725   \n1        2  Ethereum    ETH  2015-08-09 23:59:59     0.879810     0.629191   \n2        3  Ethereum    ETH  2015-08-10 23:59:59     0.729854     0.636546   \n3        4  Ethereum    ETH  2015-08-11 23:59:59     1.131410     0.663235   \n4        5  Ethereum    ETH  2015-08-12 23:59:59     1.289940     0.883608   \n...    ...       ...    ...                  ...          ...          ...   \n2155  2156  Ethereum    ETH  2021-07-02 23:59:59  2155.596496  2021.824808   \n2156  2157  Ethereum    ETH  2021-07-03 23:59:59  2237.567155  2117.590013   \n2157  2158  Ethereum    ETH  2021-07-04 23:59:59  2384.286857  2190.837703   \n2158  2159  Ethereum    ETH  2021-07-05 23:59:59  2321.922836  2163.041394   \n2159  2160  Ethereum    ETH  2021-07-06 23:59:59  2346.294874  2197.919385   \n\n             Open        Close        Volume     Marketcap  Prediction  \n0        2.793760     0.753325  6.741880e+05  4.548689e+07     1.82767  \n1        0.706136     0.701897  5.321700e+05  4.239957e+07     1.82787  \n2        0.713989     0.708448  4.052830e+05  4.281836e+07     1.68890  \n3        0.708087     1.067860  1.463100e+06  6.456929e+07     1.56603  \n4        1.058750     1.217440  2.150620e+06  7.364501e+07     1.20361  \n...           ...          ...           ...           ...         ...  \n2155  2109.892677  2150.040364  3.179621e+10  2.505527e+11         NaN  \n2156  2150.835025  2226.114282  1.743336e+10  2.594475e+11         NaN  \n2157  2226.550382  2321.724112  1.878711e+10  2.706217e+11         NaN  \n2158  2321.922836  2198.582464  2.010379e+10  2.562978e+11         NaN  \n2159  2197.919385  2324.679449  2.089186e+10  2.710286e+11         NaN  \n\n[2160 rows x 11 columns]",
      "text/html": "<div>\n<style scoped>\n    .dataframe tbody tr th:only-of-type {\n        vertical-align: middle;\n    }\n\n    .dataframe tbody tr th {\n        vertical-align: top;\n    }\n\n    .dataframe thead th {\n        text-align: right;\n    }\n</style>\n<table border=\"1\" class=\"dataframe\">\n  <thead>\n    <tr style=\"text-align: right;\">\n      <th></th>\n      <th>SNo</th>\n      <th>Name</th>\n      <th>Symbol</th>\n      <th>Date</th>\n      <th>High</th>\n      <th>Low</th>\n      <th>Open</th>\n      <th>Close</th>\n      <th>Volume</th>\n      <th>Marketcap</th>\n      <th>Prediction</th>\n    </tr>\n  </thead>\n  <tbody>\n    <tr>\n      <th>0</th>\n      <td>1</td>\n      <td>Ethereum</td>\n      <td>ETH</td>\n      <td>2015-08-08 23:59:59</td>\n      <td>2.798810</td>\n      <td>0.714725</td>\n      <td>2.793760</td>\n      <td>0.753325</td>\n      <td>6.741880e+05</td>\n      <td>4.548689e+07</td>\n      <td>1.82767</td>\n    </tr>\n    <tr>\n      <th>1</th>\n      <td>2</td>\n      <td>Ethereum</td>\n      <td>ETH</td>\n      <td>2015-08-09 23:59:59</td>\n      <td>0.879810</td>\n      <td>0.629191</td>\n      <td>0.706136</td>\n      <td>0.701897</td>\n      <td>5.321700e+05</td>\n      <td>4.239957e+07</td>\n      <td>1.82787</td>\n    </tr>\n    <tr>\n      <th>2</th>\n      <td>3</td>\n      <td>Ethereum</td>\n      <td>ETH</td>\n      <td>2015-08-10 23:59:59</td>\n      <td>0.729854</td>\n      <td>0.636546</td>\n      <td>0.713989</td>\n      <td>0.708448</td>\n      <td>4.052830e+05</td>\n      <td>4.281836e+07</td>\n      <td>1.68890</td>\n    </tr>\n    <tr>\n      <th>3</th>\n      <td>4</td>\n      <td>Ethereum</td>\n      <td>ETH</td>\n      <td>2015-08-11 23:59:59</td>\n      <td>1.131410</td>\n      <td>0.663235</td>\n      <td>0.708087</td>\n      <td>1.067860</td>\n      <td>1.463100e+06</td>\n      <td>6.456929e+07</td>\n      <td>1.56603</td>\n    </tr>\n    <tr>\n      <th>4</th>\n      <td>5</td>\n      <td>Ethereum</td>\n      <td>ETH</td>\n      <td>2015-08-12 23:59:59</td>\n      <td>1.289940</td>\n      <td>0.883608</td>\n      <td>1.058750</td>\n      <td>1.217440</td>\n      <td>2.150620e+06</td>\n      <td>7.364501e+07</td>\n      <td>1.20361</td>\n    </tr>\n    <tr>\n      <th>...</th>\n      <td>...</td>\n      <td>...</td>\n      <td>...</td>\n      <td>...</td>\n      <td>...</td>\n      <td>...</td>\n      <td>...</td>\n      <td>...</td>\n      <td>...</td>\n      <td>...</td>\n      <td>...</td>\n    </tr>\n    <tr>\n      <th>2155</th>\n      <td>2156</td>\n      <td>Ethereum</td>\n      <td>ETH</td>\n      <td>2021-07-02 23:59:59</td>\n      <td>2155.596496</td>\n      <td>2021.824808</td>\n      <td>2109.892677</td>\n      <td>2150.040364</td>\n      <td>3.179621e+10</td>\n      <td>2.505527e+11</td>\n      <td>NaN</td>\n    </tr>\n    <tr>\n      <th>2156</th>\n      <td>2157</td>\n      <td>Ethereum</td>\n      <td>ETH</td>\n      <td>2021-07-03 23:59:59</td>\n      <td>2237.567155</td>\n      <td>2117.590013</td>\n      <td>2150.835025</td>\n      <td>2226.114282</td>\n      <td>1.743336e+10</td>\n      <td>2.594475e+11</td>\n      <td>NaN</td>\n    </tr>\n    <tr>\n      <th>2157</th>\n      <td>2158</td>\n      <td>Ethereum</td>\n      <td>ETH</td>\n      <td>2021-07-04 23:59:59</td>\n      <td>2384.286857</td>\n      <td>2190.837703</td>\n      <td>2226.550382</td>\n      <td>2321.724112</td>\n      <td>1.878711e+10</td>\n      <td>2.706217e+11</td>\n      <td>NaN</td>\n    </tr>\n    <tr>\n      <th>2158</th>\n      <td>2159</td>\n      <td>Ethereum</td>\n      <td>ETH</td>\n      <td>2021-07-05 23:59:59</td>\n      <td>2321.922836</td>\n      <td>2163.041394</td>\n      <td>2321.922836</td>\n      <td>2198.582464</td>\n      <td>2.010379e+10</td>\n      <td>2.562978e+11</td>\n      <td>NaN</td>\n    </tr>\n    <tr>\n      <th>2159</th>\n      <td>2160</td>\n      <td>Ethereum</td>\n      <td>ETH</td>\n      <td>2021-07-06 23:59:59</td>\n      <td>2346.294874</td>\n      <td>2197.919385</td>\n      <td>2197.919385</td>\n      <td>2324.679449</td>\n      <td>2.089186e+10</td>\n      <td>2.710286e+11</td>\n      <td>NaN</td>\n    </tr>\n  </tbody>\n</table>\n<p>2160 rows × 11 columns</p>\n</div>"
     },
     "execution_count": 18,
     "metadata": {},
     "output_type": "execute_result"
    }
   ],
   "source": [
    "################################################### Ethereum #############################################################\n",
    "#Creation of a variable for predicting '5' days out into the future\n",
    "projection_Ethereum = 5\n",
    "#creation of a new column with a name prediction\n",
    "Ethereum['Prediction'] = Ethereum[['Close']].shift(-projection_Ethereum)\n",
    "Ethereum"
   ],
   "metadata": {
    "collapsed": false
   }
  },
  {
   "cell_type": "code",
   "execution_count": 19,
   "outputs": [
    {
     "data": {
      "text/plain": "       SNo     Name Symbol                 Date          High           Low  \\\n0        1  Bitcoin    BTC  2013-04-29 23:59:59    147.488007    134.000000   \n1        2  Bitcoin    BTC  2013-04-30 23:59:59    146.929993    134.050003   \n2        3  Bitcoin    BTC  2013-05-01 23:59:59    139.889999    107.720001   \n3        4  Bitcoin    BTC  2013-05-02 23:59:59    125.599998     92.281898   \n4        5  Bitcoin    BTC  2013-05-03 23:59:59    108.127998     79.099998   \n...    ...      ...    ...                  ...           ...           ...   \n2986  2987  Bitcoin    BTC  2021-07-02 23:59:59  33939.588699  32770.680780   \n2987  2988  Bitcoin    BTC  2021-07-03 23:59:59  34909.259899  33402.696536   \n2988  2989  Bitcoin    BTC  2021-07-04 23:59:59  35937.567147  34396.477458   \n2989  2990  Bitcoin    BTC  2021-07-05 23:59:59  35284.344430  33213.661034   \n2990  2991  Bitcoin    BTC  2021-07-06 23:59:59  35038.536363  33599.916169   \n\n              Open         Close        Volume     Marketcap  Prediction  \n0       134.444000    144.539993  0.000000e+00  1.603769e+09  112.500000  \n1       144.000000    139.000000  0.000000e+00  1.542813e+09  115.910004  \n2       139.000000    116.989998  0.000000e+00  1.298955e+09  112.300003  \n3       116.379997    105.209999  0.000000e+00  1.168517e+09  111.500000  \n4       106.250000     97.750000  0.000000e+00  1.085995e+09  113.566002  \n...            ...           ...           ...           ...         ...  \n2986  33549.600177  33897.048590  3.872897e+10  6.354508e+11         NaN  \n2987  33854.421362  34668.548402  2.438396e+10  6.499397e+11         NaN  \n2988  34665.564866  35287.779766  2.492431e+10  6.615748e+11         NaN  \n2989  35284.344430  33746.002456  2.672155e+10  6.326962e+11         NaN  \n2990  33723.509655  34235.193451  2.650126e+10  6.418992e+11         NaN  \n\n[2991 rows x 11 columns]",
      "text/html": "<div>\n<style scoped>\n    .dataframe tbody tr th:only-of-type {\n        vertical-align: middle;\n    }\n\n    .dataframe tbody tr th {\n        vertical-align: top;\n    }\n\n    .dataframe thead th {\n        text-align: right;\n    }\n</style>\n<table border=\"1\" class=\"dataframe\">\n  <thead>\n    <tr style=\"text-align: right;\">\n      <th></th>\n      <th>SNo</th>\n      <th>Name</th>\n      <th>Symbol</th>\n      <th>Date</th>\n      <th>High</th>\n      <th>Low</th>\n      <th>Open</th>\n      <th>Close</th>\n      <th>Volume</th>\n      <th>Marketcap</th>\n      <th>Prediction</th>\n    </tr>\n  </thead>\n  <tbody>\n    <tr>\n      <th>0</th>\n      <td>1</td>\n      <td>Bitcoin</td>\n      <td>BTC</td>\n      <td>2013-04-29 23:59:59</td>\n      <td>147.488007</td>\n      <td>134.000000</td>\n      <td>134.444000</td>\n      <td>144.539993</td>\n      <td>0.000000e+00</td>\n      <td>1.603769e+09</td>\n      <td>112.500000</td>\n    </tr>\n    <tr>\n      <th>1</th>\n      <td>2</td>\n      <td>Bitcoin</td>\n      <td>BTC</td>\n      <td>2013-04-30 23:59:59</td>\n      <td>146.929993</td>\n      <td>134.050003</td>\n      <td>144.000000</td>\n      <td>139.000000</td>\n      <td>0.000000e+00</td>\n      <td>1.542813e+09</td>\n      <td>115.910004</td>\n    </tr>\n    <tr>\n      <th>2</th>\n      <td>3</td>\n      <td>Bitcoin</td>\n      <td>BTC</td>\n      <td>2013-05-01 23:59:59</td>\n      <td>139.889999</td>\n      <td>107.720001</td>\n      <td>139.000000</td>\n      <td>116.989998</td>\n      <td>0.000000e+00</td>\n      <td>1.298955e+09</td>\n      <td>112.300003</td>\n    </tr>\n    <tr>\n      <th>3</th>\n      <td>4</td>\n      <td>Bitcoin</td>\n      <td>BTC</td>\n      <td>2013-05-02 23:59:59</td>\n      <td>125.599998</td>\n      <td>92.281898</td>\n      <td>116.379997</td>\n      <td>105.209999</td>\n      <td>0.000000e+00</td>\n      <td>1.168517e+09</td>\n      <td>111.500000</td>\n    </tr>\n    <tr>\n      <th>4</th>\n      <td>5</td>\n      <td>Bitcoin</td>\n      <td>BTC</td>\n      <td>2013-05-03 23:59:59</td>\n      <td>108.127998</td>\n      <td>79.099998</td>\n      <td>106.250000</td>\n      <td>97.750000</td>\n      <td>0.000000e+00</td>\n      <td>1.085995e+09</td>\n      <td>113.566002</td>\n    </tr>\n    <tr>\n      <th>...</th>\n      <td>...</td>\n      <td>...</td>\n      <td>...</td>\n      <td>...</td>\n      <td>...</td>\n      <td>...</td>\n      <td>...</td>\n      <td>...</td>\n      <td>...</td>\n      <td>...</td>\n      <td>...</td>\n    </tr>\n    <tr>\n      <th>2986</th>\n      <td>2987</td>\n      <td>Bitcoin</td>\n      <td>BTC</td>\n      <td>2021-07-02 23:59:59</td>\n      <td>33939.588699</td>\n      <td>32770.680780</td>\n      <td>33549.600177</td>\n      <td>33897.048590</td>\n      <td>3.872897e+10</td>\n      <td>6.354508e+11</td>\n      <td>NaN</td>\n    </tr>\n    <tr>\n      <th>2987</th>\n      <td>2988</td>\n      <td>Bitcoin</td>\n      <td>BTC</td>\n      <td>2021-07-03 23:59:59</td>\n      <td>34909.259899</td>\n      <td>33402.696536</td>\n      <td>33854.421362</td>\n      <td>34668.548402</td>\n      <td>2.438396e+10</td>\n      <td>6.499397e+11</td>\n      <td>NaN</td>\n    </tr>\n    <tr>\n      <th>2988</th>\n      <td>2989</td>\n      <td>Bitcoin</td>\n      <td>BTC</td>\n      <td>2021-07-04 23:59:59</td>\n      <td>35937.567147</td>\n      <td>34396.477458</td>\n      <td>34665.564866</td>\n      <td>35287.779766</td>\n      <td>2.492431e+10</td>\n      <td>6.615748e+11</td>\n      <td>NaN</td>\n    </tr>\n    <tr>\n      <th>2989</th>\n      <td>2990</td>\n      <td>Bitcoin</td>\n      <td>BTC</td>\n      <td>2021-07-05 23:59:59</td>\n      <td>35284.344430</td>\n      <td>33213.661034</td>\n      <td>35284.344430</td>\n      <td>33746.002456</td>\n      <td>2.672155e+10</td>\n      <td>6.326962e+11</td>\n      <td>NaN</td>\n    </tr>\n    <tr>\n      <th>2990</th>\n      <td>2991</td>\n      <td>Bitcoin</td>\n      <td>BTC</td>\n      <td>2021-07-06 23:59:59</td>\n      <td>35038.536363</td>\n      <td>33599.916169</td>\n      <td>33723.509655</td>\n      <td>34235.193451</td>\n      <td>2.650126e+10</td>\n      <td>6.418992e+11</td>\n      <td>NaN</td>\n    </tr>\n  </tbody>\n</table>\n<p>2991 rows × 11 columns</p>\n</div>"
     },
     "execution_count": 19,
     "metadata": {},
     "output_type": "execute_result"
    }
   ],
   "source": [
    "################################################### Bitcoin #############################################################\n",
    "#Creation of a variable for predicting '5' days out into the future\n",
    "projection_Bitcoin = 5\n",
    "#creation of a new column with a name prediction\n",
    "Bitcoin['Prediction'] = Bitcoin[['Close']].shift(-projection_Bitcoin)\n",
    "Bitcoin"
   ],
   "metadata": {
    "collapsed": false
   }
  },
  {
   "cell_type": "markdown",
   "source": [
    "**DATA VISUALIZATION**"
   ],
   "metadata": {
    "collapsed": false
   }
  },
  {
   "cell_type": "code",
   "execution_count": 20,
   "outputs": [
    {
     "ename": "NameError",
     "evalue": "name 'px' is not defined",
     "output_type": "error",
     "traceback": [
      "\u001B[1;31m---------------------------------------------------------------------------\u001B[0m",
      "\u001B[1;31mNameError\u001B[0m                                 Traceback (most recent call last)",
      "Input \u001B[1;32mIn [20]\u001B[0m, in \u001B[0;36m<cell line: 4>\u001B[1;34m()\u001B[0m\n\u001B[0;32m      1\u001B[0m \u001B[38;5;66;03m################################################### Monero #############################################################\u001B[39;00m\n\u001B[0;32m      2\u001B[0m visualize_Monero \u001B[38;5;241m=\u001B[39m cycle([\u001B[38;5;124m'\u001B[39m\u001B[38;5;124mOpen\u001B[39m\u001B[38;5;124m'\u001B[39m,\u001B[38;5;124m'\u001B[39m\u001B[38;5;124mClose\u001B[39m\u001B[38;5;124m'\u001B[39m,\u001B[38;5;124m'\u001B[39m\u001B[38;5;124mHigh\u001B[39m\u001B[38;5;124m'\u001B[39m,\u001B[38;5;124m'\u001B[39m\u001B[38;5;124mLow\u001B[39m\u001B[38;5;124m'\u001B[39m,\u001B[38;5;124m'\u001B[39m\u001B[38;5;124mPrediction\u001B[39m\u001B[38;5;124m'\u001B[39m])\n\u001B[1;32m----> 4\u001B[0m fig \u001B[38;5;241m=\u001B[39m \u001B[43mpx\u001B[49m\u001B[38;5;241m.\u001B[39mline(Monero, x\u001B[38;5;241m=\u001B[39mMonero\u001B[38;5;241m.\u001B[39mDate, y\u001B[38;5;241m=\u001B[39m[Monero[\u001B[38;5;124m'\u001B[39m\u001B[38;5;124mOpen\u001B[39m\u001B[38;5;124m'\u001B[39m], Monero[\u001B[38;5;124m'\u001B[39m\u001B[38;5;124mClose\u001B[39m\u001B[38;5;124m'\u001B[39m], \n\u001B[0;32m      5\u001B[0m                                           Monero[\u001B[38;5;124m'\u001B[39m\u001B[38;5;124mHigh\u001B[39m\u001B[38;5;124m'\u001B[39m], Monero[\u001B[38;5;124m'\u001B[39m\u001B[38;5;124mLow\u001B[39m\u001B[38;5;124m'\u001B[39m], Monero[\u001B[38;5;124m'\u001B[39m\u001B[38;5;124mPrediction\u001B[39m\u001B[38;5;124m'\u001B[39m]],\n\u001B[0;32m      6\u001B[0m              labels\u001B[38;5;241m=\u001B[39m{\u001B[38;5;124m'\u001B[39m\u001B[38;5;124mDate\u001B[39m\u001B[38;5;124m'\u001B[39m: \u001B[38;5;124m'\u001B[39m\u001B[38;5;124mDate\u001B[39m\u001B[38;5;124m'\u001B[39m,\u001B[38;5;124m'\u001B[39m\u001B[38;5;124mvalue\u001B[39m\u001B[38;5;124m'\u001B[39m:\u001B[38;5;124m'\u001B[39m\u001B[38;5;124mPrice\u001B[39m\u001B[38;5;124m'\u001B[39m})\n\u001B[0;32m      7\u001B[0m fig\u001B[38;5;241m.\u001B[39mupdate_layout(title_text\u001B[38;5;241m=\u001B[39m\u001B[38;5;124m'\u001B[39m\u001B[38;5;124mMonero\u001B[39m\u001B[38;5;124m'\u001B[39m, font_size\u001B[38;5;241m=\u001B[39m\u001B[38;5;241m15\u001B[39m, font_color\u001B[38;5;241m=\u001B[39m\u001B[38;5;124m'\u001B[39m\u001B[38;5;124mblack\u001B[39m\u001B[38;5;124m'\u001B[39m,legend_title_text\u001B[38;5;241m=\u001B[39m\u001B[38;5;124m'\u001B[39m\u001B[38;5;124mParameters\u001B[39m\u001B[38;5;124m'\u001B[39m)\n\u001B[0;32m      8\u001B[0m fig\u001B[38;5;241m.\u001B[39mfor_each_trace(\u001B[38;5;28;01mlambda\u001B[39;00m t:  t\u001B[38;5;241m.\u001B[39mupdate(name \u001B[38;5;241m=\u001B[39m \u001B[38;5;28mnext\u001B[39m(visualize_Monero)))\n",
      "\u001B[1;31mNameError\u001B[0m: name 'px' is not defined"
     ]
    }
   ],
   "source": [
    "################################################### Monero #############################################################\n",
    "visualize_Binance_coin = cycle(['Open','Close','High','Low','Prediction'])\n",
    "\n",
    "fig = px.line(Monero, x=Monero.Date, y=[Binance_coin['Open'], Binance_coin['Close'],\n",
    "                                        Binance_coin['High'], Binance_coin['Low'], Binance_coin['Prediction']],\n",
    "             labels={'Date': 'Date','value':'Price'})\n",
    "fig.update_layout(title_text='Monero', font_size=15, font_color='black',legend_title_text='Parameters')\n",
    "fig.for_each_trace(lambda t:  t.update(name = next(visualize_Binance_coin)))\n",
    "fig.update_xaxes(showgrid=False)\n",
    "fig.update_yaxes(showgrid=False)\n",
    "\n",
    "fig.show()"
   ],
   "metadata": {
    "collapsed": false
   }
  },
  {
   "cell_type": "code",
   "execution_count": null,
   "outputs": [],
   "source": [
    "################################################### Ethereum #############################################################\n",
    "visualize_Ethereum = cycle(['Open','Close','High','Low','Prediction'])\n",
    "\n",
    "fig = px.line(Ethereum, x=Ethereum.Date, y=[Ethereum['Open'], Ethereum['Close'],\n",
    "                                          Ethereum['High'], Ethereum['Low'],Ethereum['Prediction']],\n",
    "             labels={'Date': 'Date','value':'Price'})\n",
    "fig.update_layout(title_text='Ethereum', font_size=15, font_color='black',legend_title_text='Parameters')\n",
    "fig.for_each_trace(lambda t:  t.update(name = next(visualize_Ethereum)))\n",
    "fig.update_xaxes(showgrid=False)\n",
    "fig.update_yaxes(showgrid=False)\n",
    "\n",
    "fig.show()"
   ],
   "metadata": {
    "collapsed": false
   }
  },
  {
   "cell_type": "code",
   "execution_count": null,
   "outputs": [],
   "source": [
    "################################################### Bitcoin #############################################################\n",
    "visualize_Bitcoin = cycle(['Open','Close','High','Low','Prediction'])\n",
    "\n",
    "fig = px.line(Bitcoin, x=Bitcoin.Date, y=[Bitcoin['Open'], Bitcoin['Close'],\n",
    "                                          Bitcoin['High'], Bitcoin['Low'],Bitcoin['Prediction']],\n",
    "             labels={'Date': 'Date','value':'Price'})\n",
    "fig.update_layout(title_text='Bitcoin', font_size=15, font_color='black',legend_title_text='Parameters')\n",
    "fig.for_each_trace(lambda t:  t.update(name = next(visualize_Bitcoin)))\n",
    "fig.update_xaxes(showgrid=False)\n",
    "fig.update_yaxes(showgrid=False)\n",
    "\n",
    "fig.show()"
   ],
   "metadata": {
    "collapsed": false
   }
  },
  {
   "cell_type": "markdown",
   "source": [
    "**CREATION OF THE INDEPENDENT DATA SET(X) & DEPENDENT DATA SET(y)**"
   ],
   "metadata": {
    "collapsed": false
   }
  },
  {
   "cell_type": "code",
   "execution_count": null,
   "outputs": [],
   "source": [
    "################################################### Monero #############################################################"
   ],
   "metadata": {
    "collapsed": false
   }
  },
  {
   "cell_type": "code",
   "execution_count": null,
   "outputs": [],
   "source": [
    "#Creation of the independent data set (X)\n",
    "X_Binance_coin = np.array(Binance_coin[['Close']])\n",
    "X_Binance_coin = X_Binance_coin[:-projection_Binance_coin]\n",
    "print(X_Binance_coin)"
   ],
   "metadata": {
    "collapsed": false
   }
  },
  {
   "cell_type": "code",
   "execution_count": null,
   "outputs": [],
   "source": [
    "#creation of the dependent data set (y)\n",
    "y_Binance_coin = Binance_coin['Prediction'].values\n",
    "y_Binance_coin = y_Binance_coin[:-projection_Binance_coin]\n",
    "print(y_Binance_coin)"
   ],
   "metadata": {
    "collapsed": false
   }
  },
  {
   "cell_type": "code",
   "execution_count": null,
   "outputs": [],
   "source": [
    "################################################### Ethereum #############################################################"
   ],
   "metadata": {
    "collapsed": false
   }
  },
  {
   "cell_type": "code",
   "execution_count": null,
   "outputs": [],
   "source": [
    "#Creation of the independent data set (X)\n",
    "X_Ethereum = np.array(Ethereum[['Close']])\n",
    "X_Ethereum = X_Ethereum[:-projection_Ethereum]\n",
    "print(X_Ethereum)"
   ],
   "metadata": {
    "collapsed": false
   }
  },
  {
   "cell_type": "code",
   "execution_count": null,
   "outputs": [],
   "source": [
    "#creation of the dependent data set (y)\n",
    "y_Ethereum = Ethereum['Prediction'].values\n",
    "y_Ethereum = y_Ethereum[:-projection_Ethereum]\n",
    "print(y_Ethereum)"
   ],
   "metadata": {
    "collapsed": false
   }
  },
  {
   "cell_type": "code",
   "execution_count": null,
   "outputs": [],
   "source": [
    "################################################### Bitcoin #############################################################"
   ],
   "metadata": {
    "collapsed": false
   }
  },
  {
   "cell_type": "code",
   "execution_count": null,
   "outputs": [],
   "source": [
    "#Creation of the independent data set (X)\n",
    "X_Bitcoin = np.array(Bitcoin[['Close']])\n",
    "X_Bitcoin = X_Bitcoin[:-projection_Bitcoin]\n",
    "print(X_Bitcoin)"
   ],
   "metadata": {
    "collapsed": false
   }
  },
  {
   "cell_type": "code",
   "execution_count": null,
   "outputs": [],
   "source": [
    "#creation of the dependent data set (y)\n",
    "y_Bitcoin = Bitcoin['Prediction'].values\n",
    "y_Bitcoin = y_Bitcoin[:-projection_Bitcoin]\n",
    "print(y_Bitcoin)"
   ],
   "metadata": {
    "collapsed": false
   }
  },
  {
   "cell_type": "markdown",
   "source": [
    "**SPLIT THE DATA INTO 85% TRAINING & 15% TESTING DATA SETS**"
   ],
   "metadata": {
    "collapsed": false
   }
  },
  {
   "cell_type": "code",
   "execution_count": null,
   "outputs": [],
   "source": [
    "################################################### Monero #############################################################\n",
    "x_train_Binance_coin, x_test_Binance_coin, y_train_Binance_coin, y_test_Binance_coin = train_test_split(X_Binance_coin,y_Binance_coin,test_size=0.15)"
   ],
   "metadata": {
    "collapsed": false
   }
  },
  {
   "cell_type": "code",
   "execution_count": null,
   "outputs": [],
   "source": [
    "################################################### Ethereum #############################################################\n",
    "x_train_Ethereum, x_test_Ethereum, y_train_Ethereum, y_test_Ethereum = train_test_split(X_Ethereum,y_Ethereum,test_size=0.15)"
   ],
   "metadata": {
    "collapsed": false
   }
  },
  {
   "cell_type": "code",
   "execution_count": null,
   "outputs": [],
   "source": [
    "################################################### Bitcoin #############################################################\n",
    "x_train_Bitcoin, x_test_Bitcoin, y_train_Bitcoin, y_test_Bitcoin = train_test_split(X_Bitcoin,y_Bitcoin,test_size=0.15)"
   ],
   "metadata": {
    "collapsed": false
   }
  },
  {
   "cell_type": "markdown",
   "source": [
    "**CREATE & TRAIN THE MODEL : LINEAR REGRESSION**\n",
    "\n",
    "Linear-regression models have become a proven way to scientifically and reliably predict the future. Because linear regression is a long-established statistical procedure, the properties of linear-regression models are well understood and can be trained very quickly."
   ],
   "metadata": {
    "collapsed": false
   }
  },
  {
   "cell_type": "code",
   "execution_count": null,
   "outputs": [],
   "source": [
    "################################################### Monero #############################################################\n",
    "#create & train the model\n",
    "linReg_Binance_coin = LinearRegression()\n",
    "linReg_Binance_coin.fit(x_train_Binance_coin,y_train_Binance_coin)"
   ],
   "metadata": {
    "collapsed": false
   }
  },
  {
   "cell_type": "code",
   "execution_count": null,
   "outputs": [],
   "source": [
    "################################################### Ethereum #############################################################\n",
    "linReg_Ethereum = LinearRegression()\n",
    "linReg_Ethereum.fit(x_train_Ethereum,y_train_Ethereum)"
   ],
   "metadata": {
    "collapsed": false
   }
  },
  {
   "cell_type": "code",
   "execution_count": null,
   "outputs": [],
   "source": [
    "################################################### Bitcoin #############################################################\n",
    "linReg_Bitcoin = LinearRegression()\n",
    "linReg_Bitcoin.fit(x_train_Bitcoin,y_train_Bitcoin)"
   ],
   "metadata": {
    "collapsed": false
   }
  },
  {
   "cell_type": "markdown",
   "source": [
    "**EVALUATION**\n",
    "\n",
    "* Test the model using score which returns the coefficient of determination \"R squared\" of the prediction.\n",
    "\n",
    "* R squared coefficient of determination is a statistical measure of how well the regression predictions approximate the real data points.\n",
    "\n",
    "* In statistics, the coefficient of determination, denoted R2 or r2 and pronounced \"R squared\", is the proportion of the variation in the dependent variable that is predictable from the independent variable(s)."
   ],
   "metadata": {
    "collapsed": false
   }
  },
  {
   "cell_type": "code",
   "execution_count": null,
   "outputs": [],
   "source": [
    "################################################### Monero #############################################################\n",
    "linReg_confidence_Monero = linReg_Monero.score(x_test_Monero,y_test_Monero)\n",
    "print(\"Linear Regression Confidence for Monero: \",linReg_confidence_Monero)\n",
    "print(linReg_confidence_Monero*100,'%')"
   ],
   "metadata": {
    "collapsed": false
   }
  },
  {
   "cell_type": "code",
   "execution_count": null,
   "outputs": [],
   "source": [
    "################################################### Ethereum #############################################################\n",
    "linReg_confidence_Ethereum = linReg_Ethereum.score(x_test_Ethereum,y_test_Ethereum)\n",
    "print(\"Linear Regression Confidence for Ethereum: \",linReg_confidence_Ethereum)\n",
    "print(linReg_confidence_Ethereum*100,'%')"
   ],
   "metadata": {
    "collapsed": false
   }
  },
  {
   "cell_type": "code",
   "execution_count": null,
   "outputs": [],
   "source": [
    "################################################### Bitcoin #############################################################\n",
    "linReg_confidence_Bitcoin = linReg_Bitcoin.score(x_test_Bitcoin,y_test_Bitcoin)\n",
    "print(\"Linear Regression Confidence for Bitcoin: \",linReg_confidence_Bitcoin)\n",
    "print(linReg_confidence_Bitcoin*100,'%')"
   ],
   "metadata": {
    "collapsed": false
   }
  },
  {
   "cell_type": "markdown",
   "source": [
    "**LINEAR REGRESSION MODELS PREDICTION FOR THE NEXT 'N' DAYS**\n",
    "\n",
    "* Creation of a variable called x_projection_coin & set it equal to the last 5 rows of data from the original dataset.\n",
    "\n",
    "* Print the linear regression models predictions for the next 5 days(here, N=5).\n"
   ],
   "metadata": {
    "collapsed": false
   }
  },
  {
   "cell_type": "code",
   "execution_count": null,
   "outputs": [],
   "source": [
    "################################################### Monero #############################################################"
   ],
   "metadata": {
    "collapsed": false
   }
  },
  {
   "cell_type": "code",
   "execution_count": null,
   "outputs": [],
   "source": [
    "x_projection_Binance_coin = np.array(Binance_coin[['Close']])[-projection_Binance_coin:]\n",
    "print(x_projection_Binance_coin)"
   ],
   "metadata": {
    "collapsed": false
   }
  },
  {
   "cell_type": "code",
   "execution_count": null,
   "outputs": [],
   "source": [
    "linReg_prediction_Binance_coin = linReg_Binance_coin.predict(x_projection_Binance_coin)\n",
    "print(linReg_prediction_Binance_coin)"
   ],
   "metadata": {
    "collapsed": false
   }
  },
  {
   "cell_type": "code",
   "execution_count": null,
   "outputs": [],
   "source": [
    "################################################### Ethereum #############################################################"
   ],
   "metadata": {
    "collapsed": false
   }
  },
  {
   "cell_type": "code",
   "execution_count": null,
   "outputs": [],
   "source": [
    "x_projection_Ethereum = np.array(Ethereum[['Close']])[-projection_Ethereum:]\n",
    "print(x_projection_Ethereum)"
   ],
   "metadata": {
    "collapsed": false
   }
  },
  {
   "cell_type": "code",
   "execution_count": null,
   "outputs": [],
   "source": [
    "linReg_prediction_Ethereum = linReg_Ethereum.predict(x_projection_Ethereum)\n",
    "print(linReg_prediction_Ethereum)"
   ],
   "metadata": {
    "collapsed": false
   }
  },
  {
   "cell_type": "code",
   "execution_count": null,
   "outputs": [],
   "source": [
    "################################################### Bitcoin #############################################################"
   ],
   "metadata": {
    "collapsed": false
   }
  },
  {
   "cell_type": "code",
   "execution_count": null,
   "outputs": [],
   "source": [
    "x_projection_Bitcoin = np.array(Bitcoin[['Close']])[-projection_Bitcoin:]\n",
    "print(x_projection_Bitcoin)"
   ],
   "metadata": {
    "collapsed": false
   }
  },
  {
   "cell_type": "code",
   "execution_count": null,
   "outputs": [],
   "source": [
    "linReg_prediction_Bitcoin = linReg_Bitcoin.predict(x_projection_Bitcoin)\n",
    "print(linReg_prediction_Bitcoin)"
   ],
   "metadata": {
    "collapsed": false
   }
  },
  {
   "cell_type": "markdown",
   "source": [
    "**INFERENCE**\n",
    "\n",
    "* Linear Regression Confidence for Monero:  0.9655124595738546\n",
    "\n",
    "* Linear Regression Confidence for Ethereum:  0.9746703970582931\n",
    "\n",
    "* Linear Regression Confidence for WrappedBitcoin:  0.976342650058272\n",
    "\n",
    "* Linear Regression Confidence for Bitcoin:  0.9852120347748419\n"
   ],
   "metadata": {
    "collapsed": false
   }
  },
  {
   "cell_type": "markdown",
   "source": [
    "**CONCLUSION**\n",
    "\n",
    "* Linear regression model's predictions for the next 5 days from the Monero data given here is [209.22034045 212.56636304 217.5629971  212.28378084 219.81720678]\n",
    "\n",
    "* Linear regression model's predictions for the next 5 days from the Ethereum given here is [2150.08096162 2225.93127902 2321.26008712 2198.48038392 2324.20673824]\n",
    "\n",
    "* Linear regression model's predictions for the next 5 days from the WrappedBitcoin given here is [33984.41615247 34833.76298282 35444.11414741 33966.88425858\n",
    " 34348.08024945]\n",
    "\n",
    "* Linear regression model's predictions for the next 5 days from the Bitcoin given here is [34002.65397578 34775.34701974 35395.53611152 33851.37422844\n",
    " 34341.32182538]\n",
    "\n",
    "\n",
    "\n"
   ],
   "metadata": {
    "collapsed": false
   }
  }
 ],
 "metadata": {
  "kernelspec": {
   "display_name": "Python 3",
   "language": "python",
   "name": "python3"
  },
  "language_info": {
   "codemirror_mode": {
    "name": "ipython",
    "version": 2
   },
   "file_extension": ".py",
   "mimetype": "text/x-python",
   "name": "python",
   "nbconvert_exporter": "python",
   "pygments_lexer": "ipython2",
   "version": "2.7.6"
  }
 },
 "nbformat": 4,
 "nbformat_minor": 0
}
